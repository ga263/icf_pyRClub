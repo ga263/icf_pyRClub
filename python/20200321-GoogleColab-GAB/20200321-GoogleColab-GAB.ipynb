{
 "cells": [
  {
   "cell_type": "markdown",
   "metadata": {},
   "source": [
    "R/Python Club Are you running models in python that are slow but can benefit from GPU clusters? If so Google Colab maybe a solution. Google has been generous enough to provide GPU/TPU clusters for free! If you are familiar with Jupyter Notebooks, then you are good to go. See this site for more info: https://colab.research.google.com/notebooks/intro.ipynb"
   ]
  }
 ],
 "metadata": {
  "kernelspec": {
   "display_name": "Python 3",
   "language": "python",
   "name": "python3"
  },
  "language_info": {
   "codemirror_mode": {
    "name": "ipython",
    "version": 3
   },
   "file_extension": ".py",
   "mimetype": "text/x-python",
   "name": "python",
   "nbconvert_exporter": "python",
   "pygments_lexer": "ipython3",
   "version": "3.6.5"
  }
 },
 "nbformat": 4,
 "nbformat_minor": 2
}
