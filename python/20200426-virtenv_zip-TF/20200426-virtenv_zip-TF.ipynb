{
 "cells": [
  {
   "cell_type": "markdown",
   "metadata": {},
   "source": [
    "TIP # 1"
   ]
  },
  {
   "cell_type": "markdown",
   "metadata": {},
   "source": [
    "If you aren’t already using virtual environments, you should be! Rather than having a single instance of Python on your system, you can have a separate environment for each project / task / etc. You can then “pip install” needed packages into this particular environment without cluttering up others that don’t need it. This reduces the chance of running into compatibility issues between packages and lowers the chance of “but it works on MY computer” issues. The exact way to do this depends a little on how you’ve installed Python - for instance if you’ve installed a distribution like Anaconda, that has its own way of managing virtual environments) - but https://docs.python-guide.org/dev/virtualenvs/ is a good place to start."
   ]
  },
  {
   "cell_type": "markdown",
   "metadata": {},
   "source": [
    "TIP # 2"
   ]
  },
  {
   "cell_type": "markdown",
   "metadata": {},
   "source": [
    "“zip” is a great function that can save some effort if you are navigating multiple iterables at once – it “zips” them together and you get an iterator of tuples. You use like:"
   ]
  },
  {
   "cell_type": "code",
   "execution_count": 2,
   "metadata": {},
   "outputs": [
    {
     "name": "stdout",
     "output_type": "stream",
     "text": [
      "Durham is in NC and its really hot there.\n",
      "Northfield is in MN and its snowy there.\n",
      "Fairfax is in VA and its trafficky there.\n"
     ]
    }
   ],
   "source": [
    "cities = [ \"Durham\", \"Northfield\", \"Fairfax\" ]\n",
    "states = [ \"NC\", \"MN\", \"VA\" ]\n",
    "info = [ \"really hot\", \"snowy\", \"trafficky\" ]\n",
    "\n",
    "for city, state, misc in zip(cities, states, info):\n",
    "    print(f\"{city} is in {state} and its {misc} there.\")"
   ]
  }
 ],
 "metadata": {
  "kernelspec": {
   "display_name": "Python 3",
   "language": "python",
   "name": "python3"
  },
  "language_info": {
   "codemirror_mode": {
    "name": "ipython",
    "version": 3
   },
   "file_extension": ".py",
   "mimetype": "text/x-python",
   "name": "python",
   "nbconvert_exporter": "python",
   "pygments_lexer": "ipython3",
   "version": "3.6.5"
  }
 },
 "nbformat": 4,
 "nbformat_minor": 2
}
